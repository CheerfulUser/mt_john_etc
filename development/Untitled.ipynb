{
 "cells": [
  {
   "cell_type": "code",
   "execution_count": 1,
   "id": "7c616b13",
   "metadata": {},
   "outputs": [],
   "source": [
    "import sys\n",
    "sys.path.append('../mj_etc/')\n",
    "from etc_class import *"
   ]
  },
  {
   "cell_type": "code",
   "execution_count": 8,
   "id": "5db91329",
   "metadata": {
    "scrolled": false
   },
   "outputs": [
    {
     "name": "stdout",
     "output_type": "stream",
     "text": [
      "name           1m\n",
      "diameter      1.0\n",
      "throughput      1\n",
      "f_num         7.7\n",
      "Name: 0, dtype: object\n"
     ]
    }
   ],
   "source": [
    "etc = ETC('R','FLI','1m',source_mag=15)"
   ]
  },
  {
   "cell_type": "code",
   "execution_count": 9,
   "id": "51f0413e",
   "metadata": {
    "scrolled": false
   },
   "outputs": [
    {
     "data": {
      "text/latex": [
       "$63183.1 \\; \\mathrm{s}$"
      ],
      "text/plain": [
       "<Quantity 63183.1 s>"
      ]
     },
     "execution_count": 9,
     "metadata": {},
     "output_type": "execute_result"
    },
    {
     "data": {
      "image/png": "[encoded data removed]",
      "text/plain": [
       "<Figure size 432x288 with 1 Axes>"
      ]
     },
     "metadata": {
      "needs_background": "light"
     },
     "output_type": "display_data"
    }
   ],
   "source": [
    "etc.time_for_snr(5,mag=16,plot=True)"
   ]
  },
  {
   "cell_type": "markdown",
   "id": "c0ccd93e",
   "metadata": {},
   "source": [
    "###### etc.detector.dark_current"
   ]
  },
  {
   "cell_type": "code",
   "execution_count": null,
   "id": "b676f9cc",
   "metadata": {},
   "outputs": [],
   "source": [
    "Sky('dark','')"
   ]
  }
 ],
 "metadata": {
  "kernelspec": {
   "display_name": "Python 3",
   "language": "python",
   "name": "python3"
  },
  "language_info": {
   "codemirror_mode": {
    "name": "ipython",
    "version": 3
   },
   "file_extension": ".py",
   "mimetype": "text/x-python",
   "name": "python",
   "nbconvert_exporter": "python",
   "pygments_lexer": "ipython3",
   "version": "3.7.7"
  }
 },
 "nbformat": 4,
 "nbformat_minor": 5
}
